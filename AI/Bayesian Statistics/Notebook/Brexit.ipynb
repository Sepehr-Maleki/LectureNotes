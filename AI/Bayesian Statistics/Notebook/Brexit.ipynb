{
 "cells": [
  {
   "cell_type": "markdown",
   "metadata": {},
   "source": [
    "## Imports"
   ]
  },
  {
   "cell_type": "code",
   "execution_count": 1,
   "metadata": {},
   "outputs": [],
   "source": [
    "import numpy as np\n",
    "import pandas as pd\n",
    "import matplotlib.pyplot as plt\n",
    "from scipy.stats import beta\n",
    "from scipy.stats import binom\n",
    "from scipy.special import gamma"
   ]
  },
  {
   "cell_type": "code",
   "execution_count": 2,
   "metadata": {},
   "outputs": [],
   "source": [
    "data = pd.DataFrame(columns=[\"Date\", \"Remain\", \"Leave\", \"Undecided\", \"Sample Size\"])"
   ]
  },
  {
   "cell_type": "code",
   "execution_count": 3,
   "metadata": {},
   "outputs": [],
   "source": [
    "dates = [\"01/06/2014\", \"29/06/2014\", \"23/11/2014\", \"05/05/2015\", \"31/05/2015\",  \"28/09/2015\", \"13/12/2015\",\n",
    "         \"24/01/2016\", \"14/02/2016\", \"22/02/2016\", \"20/03/2016\", \"10/04/2016\", \"19/04/2016\", \"17/05/2016\",\n",
    "         \"13/06/2016\", \"22/06/2016\"]\n",
    "Remain_data = [.4, .36, .32, .56, .58, .55, .56, .54, .49, .51, .48, .45, .51, .52, .46, .54]\n",
    "Leave_data = [.42, .43, .48, .34, .31, .36, .35, .36, .41, .39, .41, .38, .4, .41, .45, .46]\n",
    "Undecided_data = [.18, .21, .20, .10, .11, .08, .08, .1, .1, .1, .11, .17, .09, .07, .09, 0]\n",
    "Sample_size_data = [2062, 2049, 2049, 1011, 500, 1009, 1001, 1006, 1105, 1000, 1002, 1002, 1002, 1000, 1002, 1032]"
   ]
  },
  {
   "cell_type": "code",
   "execution_count": 4,
   "metadata": {},
   "outputs": [],
   "source": [
    "data[\"Date\"] = dates\n",
    "data[\"Remain\"] = Remain_data\n",
    "data[\"Leave\"] = Leave_data\n",
    "data[\"Undecided\"] = Undecided_data\n",
    "data[\"Sample Size\"] = Sample_size_data"
   ]
  },
  {
   "cell_type": "code",
   "execution_count": 5,
   "metadata": {},
   "outputs": [],
   "source": [
    "data.set_index(\"Date\", drop=True, inplace=True)\n",
    "data.index = pd.to_datetime(data.index)"
   ]
  },
  {
   "cell_type": "code",
   "execution_count": 6,
   "metadata": {},
   "outputs": [],
   "source": [
    "data[\"Remain Sample\"] = data[\"Remain\"] * data[\"Sample Size\"]\n",
    "data[\"Leave Sample\"] = data[\"Leave\"] * data[\"Sample Size\"]\n",
    "data[\"Total\"] = data[\"Remain Sample\"] + data[\"Leave Sample\"]"
   ]
  },
  {
   "cell_type": "code",
   "execution_count": 7,
   "metadata": {},
   "outputs": [
    {
     "data": {
      "text/html": [
       "<div>\n",
       "<style scoped>\n",
       "    .dataframe tbody tr th:only-of-type {\n",
       "        vertical-align: middle;\n",
       "    }\n",
       "\n",
       "    .dataframe tbody tr th {\n",
       "        vertical-align: top;\n",
       "    }\n",
       "\n",
       "    .dataframe thead th {\n",
       "        text-align: right;\n",
       "    }\n",
       "</style>\n",
       "<table border=\"1\" class=\"dataframe\">\n",
       "  <thead>\n",
       "    <tr style=\"text-align: right;\">\n",
       "      <th></th>\n",
       "      <th>Remain</th>\n",
       "      <th>Leave</th>\n",
       "      <th>Undecided</th>\n",
       "      <th>Sample Size</th>\n",
       "      <th>Remain Sample</th>\n",
       "      <th>Leave Sample</th>\n",
       "      <th>Total</th>\n",
       "    </tr>\n",
       "    <tr>\n",
       "      <th>Date</th>\n",
       "      <th></th>\n",
       "      <th></th>\n",
       "      <th></th>\n",
       "      <th></th>\n",
       "      <th></th>\n",
       "      <th></th>\n",
       "      <th></th>\n",
       "    </tr>\n",
       "  </thead>\n",
       "  <tbody>\n",
       "    <tr>\n",
       "      <th>2014-01-06</th>\n",
       "      <td>0.40</td>\n",
       "      <td>0.42</td>\n",
       "      <td>0.18</td>\n",
       "      <td>2062</td>\n",
       "      <td>824.80</td>\n",
       "      <td>866.04</td>\n",
       "      <td>1690.84</td>\n",
       "    </tr>\n",
       "    <tr>\n",
       "      <th>2014-06-29</th>\n",
       "      <td>0.36</td>\n",
       "      <td>0.43</td>\n",
       "      <td>0.21</td>\n",
       "      <td>2049</td>\n",
       "      <td>737.64</td>\n",
       "      <td>881.07</td>\n",
       "      <td>1618.71</td>\n",
       "    </tr>\n",
       "    <tr>\n",
       "      <th>2014-11-23</th>\n",
       "      <td>0.32</td>\n",
       "      <td>0.48</td>\n",
       "      <td>0.20</td>\n",
       "      <td>2049</td>\n",
       "      <td>655.68</td>\n",
       "      <td>983.52</td>\n",
       "      <td>1639.20</td>\n",
       "    </tr>\n",
       "    <tr>\n",
       "      <th>2015-05-05</th>\n",
       "      <td>0.56</td>\n",
       "      <td>0.34</td>\n",
       "      <td>0.10</td>\n",
       "      <td>1011</td>\n",
       "      <td>566.16</td>\n",
       "      <td>343.74</td>\n",
       "      <td>909.90</td>\n",
       "    </tr>\n",
       "    <tr>\n",
       "      <th>2015-05-31</th>\n",
       "      <td>0.58</td>\n",
       "      <td>0.31</td>\n",
       "      <td>0.11</td>\n",
       "      <td>500</td>\n",
       "      <td>290.00</td>\n",
       "      <td>155.00</td>\n",
       "      <td>445.00</td>\n",
       "    </tr>\n",
       "    <tr>\n",
       "      <th>2015-09-28</th>\n",
       "      <td>0.55</td>\n",
       "      <td>0.36</td>\n",
       "      <td>0.08</td>\n",
       "      <td>1009</td>\n",
       "      <td>554.95</td>\n",
       "      <td>363.24</td>\n",
       "      <td>918.19</td>\n",
       "    </tr>\n",
       "    <tr>\n",
       "      <th>2015-12-13</th>\n",
       "      <td>0.56</td>\n",
       "      <td>0.35</td>\n",
       "      <td>0.08</td>\n",
       "      <td>1001</td>\n",
       "      <td>560.56</td>\n",
       "      <td>350.35</td>\n",
       "      <td>910.91</td>\n",
       "    </tr>\n",
       "    <tr>\n",
       "      <th>2016-01-24</th>\n",
       "      <td>0.54</td>\n",
       "      <td>0.36</td>\n",
       "      <td>0.10</td>\n",
       "      <td>1006</td>\n",
       "      <td>543.24</td>\n",
       "      <td>362.16</td>\n",
       "      <td>905.40</td>\n",
       "    </tr>\n",
       "    <tr>\n",
       "      <th>2016-02-14</th>\n",
       "      <td>0.49</td>\n",
       "      <td>0.41</td>\n",
       "      <td>0.10</td>\n",
       "      <td>1105</td>\n",
       "      <td>541.45</td>\n",
       "      <td>453.05</td>\n",
       "      <td>994.50</td>\n",
       "    </tr>\n",
       "    <tr>\n",
       "      <th>2016-02-22</th>\n",
       "      <td>0.51</td>\n",
       "      <td>0.39</td>\n",
       "      <td>0.10</td>\n",
       "      <td>1000</td>\n",
       "      <td>510.00</td>\n",
       "      <td>390.00</td>\n",
       "      <td>900.00</td>\n",
       "    </tr>\n",
       "    <tr>\n",
       "      <th>2016-03-20</th>\n",
       "      <td>0.48</td>\n",
       "      <td>0.41</td>\n",
       "      <td>0.11</td>\n",
       "      <td>1002</td>\n",
       "      <td>480.96</td>\n",
       "      <td>410.82</td>\n",
       "      <td>891.78</td>\n",
       "    </tr>\n",
       "    <tr>\n",
       "      <th>2016-10-04</th>\n",
       "      <td>0.45</td>\n",
       "      <td>0.38</td>\n",
       "      <td>0.17</td>\n",
       "      <td>1002</td>\n",
       "      <td>450.90</td>\n",
       "      <td>380.76</td>\n",
       "      <td>831.66</td>\n",
       "    </tr>\n",
       "    <tr>\n",
       "      <th>2016-04-19</th>\n",
       "      <td>0.51</td>\n",
       "      <td>0.40</td>\n",
       "      <td>0.09</td>\n",
       "      <td>1002</td>\n",
       "      <td>511.02</td>\n",
       "      <td>400.80</td>\n",
       "      <td>911.82</td>\n",
       "    </tr>\n",
       "    <tr>\n",
       "      <th>2016-05-17</th>\n",
       "      <td>0.52</td>\n",
       "      <td>0.41</td>\n",
       "      <td>0.07</td>\n",
       "      <td>1000</td>\n",
       "      <td>520.00</td>\n",
       "      <td>410.00</td>\n",
       "      <td>930.00</td>\n",
       "    </tr>\n",
       "    <tr>\n",
       "      <th>2016-06-13</th>\n",
       "      <td>0.46</td>\n",
       "      <td>0.45</td>\n",
       "      <td>0.09</td>\n",
       "      <td>1002</td>\n",
       "      <td>460.92</td>\n",
       "      <td>450.90</td>\n",
       "      <td>911.82</td>\n",
       "    </tr>\n",
       "    <tr>\n",
       "      <th>2016-06-22</th>\n",
       "      <td>0.54</td>\n",
       "      <td>0.46</td>\n",
       "      <td>0.00</td>\n",
       "      <td>1032</td>\n",
       "      <td>557.28</td>\n",
       "      <td>474.72</td>\n",
       "      <td>1032.00</td>\n",
       "    </tr>\n",
       "  </tbody>\n",
       "</table>\n",
       "</div>"
      ],
      "text/plain": [
       "            Remain  Leave  Undecided  Sample Size  Remain Sample  \\\n",
       "Date                                                               \n",
       "2014-01-06    0.40   0.42       0.18         2062         824.80   \n",
       "2014-06-29    0.36   0.43       0.21         2049         737.64   \n",
       "2014-11-23    0.32   0.48       0.20         2049         655.68   \n",
       "2015-05-05    0.56   0.34       0.10         1011         566.16   \n",
       "2015-05-31    0.58   0.31       0.11          500         290.00   \n",
       "2015-09-28    0.55   0.36       0.08         1009         554.95   \n",
       "2015-12-13    0.56   0.35       0.08         1001         560.56   \n",
       "2016-01-24    0.54   0.36       0.10         1006         543.24   \n",
       "2016-02-14    0.49   0.41       0.10         1105         541.45   \n",
       "2016-02-22    0.51   0.39       0.10         1000         510.00   \n",
       "2016-03-20    0.48   0.41       0.11         1002         480.96   \n",
       "2016-10-04    0.45   0.38       0.17         1002         450.90   \n",
       "2016-04-19    0.51   0.40       0.09         1002         511.02   \n",
       "2016-05-17    0.52   0.41       0.07         1000         520.00   \n",
       "2016-06-13    0.46   0.45       0.09         1002         460.92   \n",
       "2016-06-22    0.54   0.46       0.00         1032         557.28   \n",
       "\n",
       "            Leave Sample    Total  \n",
       "Date                               \n",
       "2014-01-06        866.04  1690.84  \n",
       "2014-06-29        881.07  1618.71  \n",
       "2014-11-23        983.52  1639.20  \n",
       "2015-05-05        343.74   909.90  \n",
       "2015-05-31        155.00   445.00  \n",
       "2015-09-28        363.24   918.19  \n",
       "2015-12-13        350.35   910.91  \n",
       "2016-01-24        362.16   905.40  \n",
       "2016-02-14        453.05   994.50  \n",
       "2016-02-22        390.00   900.00  \n",
       "2016-03-20        410.82   891.78  \n",
       "2016-10-04        380.76   831.66  \n",
       "2016-04-19        400.80   911.82  \n",
       "2016-05-17        410.00   930.00  \n",
       "2016-06-13        450.90   911.82  \n",
       "2016-06-22        474.72  1032.00  "
      ]
     },
     "execution_count": 7,
     "metadata": {},
     "output_type": "execute_result"
    }
   ],
   "source": [
    "data"
   ]
  },
  {
   "cell_type": "code",
   "execution_count": 8,
   "metadata": {},
   "outputs": [],
   "source": [
    "data[\"Remain\"] = data[\"Remain Sample\"] / data[\"Total\"]\n",
    "data[\"Leave\"] = data[\"Leave Sample\"] / data[\"Total\"]"
   ]
  },
  {
   "cell_type": "code",
   "execution_count": 9,
   "metadata": {},
   "outputs": [
    {
     "data": {
      "text/html": [
       "<div>\n",
       "<style scoped>\n",
       "    .dataframe tbody tr th:only-of-type {\n",
       "        vertical-align: middle;\n",
       "    }\n",
       "\n",
       "    .dataframe tbody tr th {\n",
       "        vertical-align: top;\n",
       "    }\n",
       "\n",
       "    .dataframe thead th {\n",
       "        text-align: right;\n",
       "    }\n",
       "</style>\n",
       "<table border=\"1\" class=\"dataframe\">\n",
       "  <thead>\n",
       "    <tr style=\"text-align: right;\">\n",
       "      <th></th>\n",
       "      <th>Remain</th>\n",
       "      <th>Leave</th>\n",
       "      <th>Undecided</th>\n",
       "      <th>Sample Size</th>\n",
       "      <th>Remain Sample</th>\n",
       "      <th>Leave Sample</th>\n",
       "      <th>Total</th>\n",
       "    </tr>\n",
       "    <tr>\n",
       "      <th>Date</th>\n",
       "      <th></th>\n",
       "      <th></th>\n",
       "      <th></th>\n",
       "      <th></th>\n",
       "      <th></th>\n",
       "      <th></th>\n",
       "      <th></th>\n",
       "    </tr>\n",
       "  </thead>\n",
       "  <tbody>\n",
       "    <tr>\n",
       "      <th>2014-01-06</th>\n",
       "      <td>0.487805</td>\n",
       "      <td>0.512195</td>\n",
       "      <td>0.18</td>\n",
       "      <td>2062</td>\n",
       "      <td>824.80</td>\n",
       "      <td>866.04</td>\n",
       "      <td>1690.84</td>\n",
       "    </tr>\n",
       "    <tr>\n",
       "      <th>2014-06-29</th>\n",
       "      <td>0.455696</td>\n",
       "      <td>0.544304</td>\n",
       "      <td>0.21</td>\n",
       "      <td>2049</td>\n",
       "      <td>737.64</td>\n",
       "      <td>881.07</td>\n",
       "      <td>1618.71</td>\n",
       "    </tr>\n",
       "    <tr>\n",
       "      <th>2014-11-23</th>\n",
       "      <td>0.400000</td>\n",
       "      <td>0.600000</td>\n",
       "      <td>0.20</td>\n",
       "      <td>2049</td>\n",
       "      <td>655.68</td>\n",
       "      <td>983.52</td>\n",
       "      <td>1639.20</td>\n",
       "    </tr>\n",
       "    <tr>\n",
       "      <th>2015-05-05</th>\n",
       "      <td>0.622222</td>\n",
       "      <td>0.377778</td>\n",
       "      <td>0.10</td>\n",
       "      <td>1011</td>\n",
       "      <td>566.16</td>\n",
       "      <td>343.74</td>\n",
       "      <td>909.90</td>\n",
       "    </tr>\n",
       "    <tr>\n",
       "      <th>2015-05-31</th>\n",
       "      <td>0.651685</td>\n",
       "      <td>0.348315</td>\n",
       "      <td>0.11</td>\n",
       "      <td>500</td>\n",
       "      <td>290.00</td>\n",
       "      <td>155.00</td>\n",
       "      <td>445.00</td>\n",
       "    </tr>\n",
       "    <tr>\n",
       "      <th>2015-09-28</th>\n",
       "      <td>0.604396</td>\n",
       "      <td>0.395604</td>\n",
       "      <td>0.08</td>\n",
       "      <td>1009</td>\n",
       "      <td>554.95</td>\n",
       "      <td>363.24</td>\n",
       "      <td>918.19</td>\n",
       "    </tr>\n",
       "    <tr>\n",
       "      <th>2015-12-13</th>\n",
       "      <td>0.615385</td>\n",
       "      <td>0.384615</td>\n",
       "      <td>0.08</td>\n",
       "      <td>1001</td>\n",
       "      <td>560.56</td>\n",
       "      <td>350.35</td>\n",
       "      <td>910.91</td>\n",
       "    </tr>\n",
       "    <tr>\n",
       "      <th>2016-01-24</th>\n",
       "      <td>0.600000</td>\n",
       "      <td>0.400000</td>\n",
       "      <td>0.10</td>\n",
       "      <td>1006</td>\n",
       "      <td>543.24</td>\n",
       "      <td>362.16</td>\n",
       "      <td>905.40</td>\n",
       "    </tr>\n",
       "    <tr>\n",
       "      <th>2016-02-14</th>\n",
       "      <td>0.544444</td>\n",
       "      <td>0.455556</td>\n",
       "      <td>0.10</td>\n",
       "      <td>1105</td>\n",
       "      <td>541.45</td>\n",
       "      <td>453.05</td>\n",
       "      <td>994.50</td>\n",
       "    </tr>\n",
       "    <tr>\n",
       "      <th>2016-02-22</th>\n",
       "      <td>0.566667</td>\n",
       "      <td>0.433333</td>\n",
       "      <td>0.10</td>\n",
       "      <td>1000</td>\n",
       "      <td>510.00</td>\n",
       "      <td>390.00</td>\n",
       "      <td>900.00</td>\n",
       "    </tr>\n",
       "    <tr>\n",
       "      <th>2016-03-20</th>\n",
       "      <td>0.539326</td>\n",
       "      <td>0.460674</td>\n",
       "      <td>0.11</td>\n",
       "      <td>1002</td>\n",
       "      <td>480.96</td>\n",
       "      <td>410.82</td>\n",
       "      <td>891.78</td>\n",
       "    </tr>\n",
       "    <tr>\n",
       "      <th>2016-10-04</th>\n",
       "      <td>0.542169</td>\n",
       "      <td>0.457831</td>\n",
       "      <td>0.17</td>\n",
       "      <td>1002</td>\n",
       "      <td>450.90</td>\n",
       "      <td>380.76</td>\n",
       "      <td>831.66</td>\n",
       "    </tr>\n",
       "    <tr>\n",
       "      <th>2016-04-19</th>\n",
       "      <td>0.560440</td>\n",
       "      <td>0.439560</td>\n",
       "      <td>0.09</td>\n",
       "      <td>1002</td>\n",
       "      <td>511.02</td>\n",
       "      <td>400.80</td>\n",
       "      <td>911.82</td>\n",
       "    </tr>\n",
       "    <tr>\n",
       "      <th>2016-05-17</th>\n",
       "      <td>0.559140</td>\n",
       "      <td>0.440860</td>\n",
       "      <td>0.07</td>\n",
       "      <td>1000</td>\n",
       "      <td>520.00</td>\n",
       "      <td>410.00</td>\n",
       "      <td>930.00</td>\n",
       "    </tr>\n",
       "    <tr>\n",
       "      <th>2016-06-13</th>\n",
       "      <td>0.505495</td>\n",
       "      <td>0.494505</td>\n",
       "      <td>0.09</td>\n",
       "      <td>1002</td>\n",
       "      <td>460.92</td>\n",
       "      <td>450.90</td>\n",
       "      <td>911.82</td>\n",
       "    </tr>\n",
       "    <tr>\n",
       "      <th>2016-06-22</th>\n",
       "      <td>0.540000</td>\n",
       "      <td>0.460000</td>\n",
       "      <td>0.00</td>\n",
       "      <td>1032</td>\n",
       "      <td>557.28</td>\n",
       "      <td>474.72</td>\n",
       "      <td>1032.00</td>\n",
       "    </tr>\n",
       "  </tbody>\n",
       "</table>\n",
       "</div>"
      ],
      "text/plain": [
       "              Remain     Leave  Undecided  Sample Size  Remain Sample  \\\n",
       "Date                                                                    \n",
       "2014-01-06  0.487805  0.512195       0.18         2062         824.80   \n",
       "2014-06-29  0.455696  0.544304       0.21         2049         737.64   \n",
       "2014-11-23  0.400000  0.600000       0.20         2049         655.68   \n",
       "2015-05-05  0.622222  0.377778       0.10         1011         566.16   \n",
       "2015-05-31  0.651685  0.348315       0.11          500         290.00   \n",
       "2015-09-28  0.604396  0.395604       0.08         1009         554.95   \n",
       "2015-12-13  0.615385  0.384615       0.08         1001         560.56   \n",
       "2016-01-24  0.600000  0.400000       0.10         1006         543.24   \n",
       "2016-02-14  0.544444  0.455556       0.10         1105         541.45   \n",
       "2016-02-22  0.566667  0.433333       0.10         1000         510.00   \n",
       "2016-03-20  0.539326  0.460674       0.11         1002         480.96   \n",
       "2016-10-04  0.542169  0.457831       0.17         1002         450.90   \n",
       "2016-04-19  0.560440  0.439560       0.09         1002         511.02   \n",
       "2016-05-17  0.559140  0.440860       0.07         1000         520.00   \n",
       "2016-06-13  0.505495  0.494505       0.09         1002         460.92   \n",
       "2016-06-22  0.540000  0.460000       0.00         1032         557.28   \n",
       "\n",
       "            Leave Sample    Total  \n",
       "Date                               \n",
       "2014-01-06        866.04  1690.84  \n",
       "2014-06-29        881.07  1618.71  \n",
       "2014-11-23        983.52  1639.20  \n",
       "2015-05-05        343.74   909.90  \n",
       "2015-05-31        155.00   445.00  \n",
       "2015-09-28        363.24   918.19  \n",
       "2015-12-13        350.35   910.91  \n",
       "2016-01-24        362.16   905.40  \n",
       "2016-02-14        453.05   994.50  \n",
       "2016-02-22        390.00   900.00  \n",
       "2016-03-20        410.82   891.78  \n",
       "2016-10-04        380.76   831.66  \n",
       "2016-04-19        400.80   911.82  \n",
       "2016-05-17        410.00   930.00  \n",
       "2016-06-13        450.90   911.82  \n",
       "2016-06-22        474.72  1032.00  "
      ]
     },
     "execution_count": 9,
     "metadata": {},
     "output_type": "execute_result"
    }
   ],
   "source": [
    "data"
   ]
  },
  {
   "cell_type": "code",
   "execution_count": 10,
   "metadata": {},
   "outputs": [
    {
     "data": {
      "image/png": "[encoded data removed]",
      "text/plain": [
       "<Figure size 1152x576 with 1 Axes>"
      ]
     },
     "metadata": {
      "needs_background": "light"
     },
     "output_type": "display_data"
    }
   ],
   "source": [
    "data[[\"Remain\", \"Leave\", \"Undecided\"]].plot(figsize=(16, 8), marker='o',\n",
    "                                            grid=True, color=['green', 'red', 'gray'],\n",
    "                                           title=\"ComRes Brexit Poll Results\")\n",
    "plt.show()"
   ]
  },
  {
   "cell_type": "markdown",
   "metadata": {},
   "source": [
    "## Prior"
   ]
  },
  {
   "cell_type": "markdown",
   "metadata": {},
   "source": [
    "$f(Brexit) \\propto B^{7200} (1-B)^{15408}$"
   ]
  },
  {
   "cell_type": "code",
   "execution_count": 28,
   "metadata": {},
   "outputs": [],
   "source": [
    "prior_a = int(sum(data[\"Leave Sample\"][0:-1]))\n",
    "prior_b = int(sum(data[\"Total\"][0:-1]))"
   ]
  },
  {
   "cell_type": "code",
   "execution_count": 16,
   "metadata": {},
   "outputs": [],
   "source": [
    "prior_a = data[\"Leave\"][0:-1].mean()\n",
    "prior_b = data[\"Remain\"][0:-1].mean()\n",
    "prior_a = 8\n",
    "prior_b = 1"
   ]
  },
  {
   "cell_type": "code",
   "execution_count": 17,
   "metadata": {},
   "outputs": [],
   "source": [
    "prior = beta(prior_a, prior_b)"
   ]
  },
  {
   "cell_type": "markdown",
   "metadata": {},
   "source": [
    "## Likelihood"
   ]
  },
  {
   "cell_type": "markdown",
   "metadata": {},
   "source": [
    "$f(poll~data | Brexit) \\propto B^{433} (1-B)^{1032}$"
   ]
  },
  {
   "cell_type": "code",
   "execution_count": 18,
   "metadata": {},
   "outputs": [],
   "source": [
    "likelihood_a = int(data[\"Leave Sample\"][-1])\n",
    "likelihood_b = int(data[\"Total\"][-1])"
   ]
  },
  {
   "cell_type": "code",
   "execution_count": 19,
   "metadata": {},
   "outputs": [],
   "source": [
    "likelihood = binom(int(data[\"Total\"][-1]), data[\"Leave\"][-1])"
   ]
  },
  {
   "cell_type": "code",
   "execution_count": 20,
   "metadata": {},
   "outputs": [],
   "source": [
    "likelihood_v = [likelihood.pmf(x) for x in np.arange(1, int(data[\"Total\"][-1]))]"
   ]
  },
  {
   "cell_type": "code",
   "execution_count": 21,
   "metadata": {},
   "outputs": [],
   "source": [
    "likelihood_norm = [(x - np.min(likelihood_v)) / (np.max(likelihood_v) - np.min(likelihood_v)) for x in likelihood_v]"
   ]
  },
  {
   "cell_type": "markdown",
   "metadata": {},
   "source": [
    "## Posterior"
   ]
  },
  {
   "cell_type": "markdown",
   "metadata": {},
   "source": [
    "$f(Brexit | poll~data) \\propto B^{7633} (1-B)^{16336}$"
   ]
  },
  {
   "cell_type": "code",
   "execution_count": 22,
   "metadata": {},
   "outputs": [],
   "source": [
    "posterior_a = prior_a + likelihood_a"
   ]
  },
  {
   "cell_type": "code",
   "execution_count": 23,
   "metadata": {},
   "outputs": [],
   "source": [
    "posterior_b = prior_b + likelihood_b"
   ]
  },
  {
   "cell_type": "code",
   "execution_count": 24,
   "metadata": {},
   "outputs": [],
   "source": [
    "posterior = beta(posterior_a, posterior_b)"
   ]
  },
  {
   "cell_type": "markdown",
   "metadata": {},
   "source": [
    "### 95% Credible Interval"
   ]
  },
  {
   "cell_type": "code",
   "execution_count": 25,
   "metadata": {},
   "outputs": [
    {
     "data": {
      "text/plain": [
       "(0.3180804752331262, 0.31822315512991006)"
      ]
     },
     "execution_count": 25,
     "metadata": {},
     "output_type": "execute_result"
    }
   ],
   "source": [
    "var = (posterior_a * posterior_b)/((posterior_a * posterior_b)**2 * (posterior_a + posterior_b+1))\n",
    "std = np.sqrt(var)\n",
    "mean = posterior_a/(posterior_a + posterior_b)\n",
    "conf_l = mean -1.96* std\n",
    "conf_u = mean + 1.96 * std\n",
    "(conf_l, conf_u)"
   ]
  },
  {
   "cell_type": "code",
   "execution_count": 26,
   "metadata": {},
   "outputs": [
    {
     "data": {
      "image/png": "[encoded data removed]",
      "text/plain": [
       "<Figure size 1152x576 with 1 Axes>"
      ]
     },
     "metadata": {
      "needs_background": "light"
     },
     "output_type": "display_data"
    }
   ],
   "source": [
    "fig, ax = plt.subplots(1, 1, figsize=(16, 8))\n",
    "ax.plot(np.linspace(0, 1, 1000), [posterior.pdf(x) for x in np.linspace(0, 1, 1000)])\n",
    "ax.plot(np.linspace(0, 1, 1000), [prior.pdf(x) for x in np.linspace(0, 1, 1000)])\n",
    "ax.plot(np.linspace(0, 1, int(data[\"Total\"][-1])-1), likelihood_norm)\n",
    "#ax.vlines(.5, 0, 100)\n",
    "ax.legend([\"Posterior\", \"Prior\", \"Likelihood\"])\n",
    "ax.set_xlim([0.0, .87])\n",
    "plt.grid()"
   ]
  },
  {
   "cell_type": "code",
   "execution_count": null,
   "metadata": {},
   "outputs": [],
   "source": [
    "plt.plot()"
   ]
  }
 ],
 "metadata": {
  "kernelspec": {
   "display_name": "Python 3",
   "language": "python",
   "name": "python3"
  },
  "language_info": {
   "codemirror_mode": {
    "name": "ipython",
    "version": 3
   },
   "file_extension": ".py",
   "mimetype": "text/x-python",
   "name": "python",
   "nbconvert_exporter": "python",
   "pygments_lexer": "ipython3",
   "version": "3.7.3"
  }
 },
 "nbformat": 4,
 "nbformat_minor": 2
}
