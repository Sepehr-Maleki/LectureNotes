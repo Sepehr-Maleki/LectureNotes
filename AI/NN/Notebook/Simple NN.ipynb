{
 "cells": [
  {
   "cell_type": "markdown",
   "metadata": {},
   "source": [
    "## Imports"
   ]
  },
  {
   "cell_type": "code",
   "execution_count": 3,
   "metadata": {},
   "outputs": [],
   "source": [
    "import numpy as np\n",
    "\n",
    "import matplotlib.pyplot as plt\n",
    "%matplotlib inline\n",
    "#plt.style.use(\"Sepehr\")"
   ]
  },
  {
   "cell_type": "markdown",
   "metadata": {},
   "source": [
    "## Data"
   ]
  },
  {
   "cell_type": "code",
   "execution_count": 4,
   "metadata": {},
   "outputs": [],
   "source": [
    "X = np.array([[0,0,1],\n",
    "              [0,1,1],\n",
    "              [1,0,1],\n",
    "              [1,1,1]])\n",
    "\n",
    "y = np.array([[0],[1],[1],[0]])"
   ]
  },
  {
   "cell_type": "markdown",
   "metadata": {},
   "source": [
    "## Activation Function"
   ]
  },
  {
   "cell_type": "code",
   "execution_count": 5,
   "metadata": {},
   "outputs": [],
   "source": [
    "def sigmoid(z):\n",
    "    return 1.0/(1+np.exp(-z))\n",
    "\n",
    "def sigmoid_derivative(z):\n",
    "    return sigmoid(z) * (1.0-sigmoid(z))"
   ]
  },
  {
   "cell_type": "markdown",
   "metadata": {},
   "source": [
    "## Neural Network"
   ]
  },
  {
   "cell_type": "markdown",
   "metadata": {},
   "source": [
    "<img src=\"./2layers.png\">\n",
    "\n",
    "The output is given by:  $\\hat{y} = \\sigma(W_2\\sigma(W_1x+b_1)+b_2)$\n",
    "\n",
    "Each iteration of the training process consists of the following steps:\n",
    "\n",
    "* Calculating the predicted output $\\hat{y}$, known as **feedforward**.\n",
    "* Updating the weights and biases, known as **backpropagation**.\n",
    "\n",
    "\n",
    "<img src=\"./net.png\">\n"
   ]
  },
  {
   "cell_type": "code",
   "execution_count": 6,
   "metadata": {},
   "outputs": [],
   "source": [
    "class NeuralNet(object):\n",
    "    def __init__(self, X, y):\n",
    "        # Define the input of the network\n",
    "        self.input = X\n",
    "        # Define the desired output of the network\n",
    "        self.y = y.reshape(-1, 1)\n",
    "        # Define the actual output of the network\n",
    "        self.yhat = np.zeros(self.y.shape)\n",
    "        # Size of the input\n",
    "        self.n, self.m = self.input.shape\n",
    "        # Number of units in the hidden layer\n",
    "        self.n_hidden = 4\n",
    "        # Dimension of the output\n",
    "        self.n_output = 1\n",
    "        # Randomly choose the weights and biases.\n",
    "        self.w1 = np.random.rand(self.m, self.n_hidden)\n",
    "        self.w2 = np.random.rand(self.n_hidden, self.n_output)\n",
    "        self.b1 = np.random.rand(self.n, self.n_hidden)\n",
    "        self.b2 = np.random.rand(self.n, self.n_output)\n",
    "\n",
    "   \n",
    "    def feedforward(self):\n",
    "        \"\"\"\n",
    "        Performs the feedforward operation.\n",
    "        \"\"\"\n",
    "        self.z1 = np.matmul(self.input, self.w1) + self.b1\n",
    "        self.a1 = sigmoid(self.z1)\n",
    "        \n",
    "        self.z2 = np.matmul(self.a1, self.w2) + self.b2\n",
    "        self.yhat = sigmoid(self.z2)\n",
    "\n",
    "\n",
    "    def backprop(self):\n",
    "        \"\"\"\n",
    "        Performs the backpropagation.\n",
    "        \"\"\"\n",
    "        \n",
    "        self.loss = self.y - self.yhat\n",
    "        \n",
    "        dw2 = np.dot(self.a1, sigmoid_derivative(self.z2) * self.loss)\n",
    "        dw1 = np.dot(self.input.T, np.dot(self.loss*sigmoid_derivative(self.z2), self.w2.T) * sigmoid_derivative(self.z1))\n",
    "        \n",
    "        db2 = np.matmul(self.loss.T, sigmoid_derivative(self.z2))\n",
    "        db1 = np.matmul(self.loss*sigmoid_derivative(self.z2), self.w2.T) * sigmoid_derivative(self.z1)\n",
    "        \n",
    "        self.w1 += dw1\n",
    "        self.w2 += dw2\n",
    "        self.b1 += db1\n",
    "        self.b2 += db2\n",
    "        \n",
    "    def train(self, X, y):\n",
    "        self.feedforward()\n",
    "        self.backprop()\n",
    "        \n",
    "    def predict(self, X):\n",
    "        logit1 = np.dot(X, self.w1) + self.b1\n",
    "        layer1 = sigmoid(z1)\n",
    "        \n",
    "        logit2 = np.dot(layer1, self.w2) + self.b2\n",
    "        return sigmoid(z2)"
   ]
  },
  {
   "cell_type": "markdown",
   "metadata": {},
   "source": [
    "## Training"
   ]
  },
  {
   "cell_type": "code",
   "execution_count": 17,
   "metadata": {},
   "outputs": [],
   "source": [
    "NN = NeuralNet(X,y)\n",
    "for i in range(100000): # trains the NN 100 times\n",
    "    NN.train(X, y)"
   ]
  },
  {
   "cell_type": "code",
   "execution_count": 18,
   "metadata": {},
   "outputs": [
    {
     "data": {
      "text/plain": [
       "array([[0.00123413],\n",
       "       [0.99868382],\n",
       "       [0.99875526],\n",
       "       [0.00133029]])"
      ]
     },
     "execution_count": 18,
     "metadata": {},
     "output_type": "execute_result"
    }
   ],
   "source": [
    "NN.yhat"
   ]
  },
  {
   "cell_type": "code",
   "execution_count": 9,
   "metadata": {},
   "outputs": [
    {
     "data": {
      "text/plain": [
       "array([[0],\n",
       "       [1],\n",
       "       [1],\n",
       "       [0]])"
      ]
     },
     "execution_count": 9,
     "metadata": {},
     "output_type": "execute_result"
    }
   ],
   "source": [
    "y"
   ]
  },
  {
   "cell_type": "markdown",
   "metadata": {},
   "source": [
    "#### Mean Squared Error"
   ]
  },
  {
   "cell_type": "code",
   "execution_count": 19,
   "metadata": {},
   "outputs": [
    {
     "data": {
      "text/plain": [
       "array([1.64361283e-06])"
      ]
     },
     "execution_count": 19,
     "metadata": {},
     "output_type": "execute_result"
    }
   ],
   "source": [
    "MSE = .25* sum((NN.yhat - y)**2)\n",
    "MSE"
   ]
  },
  {
   "cell_type": "code",
   "execution_count": null,
   "metadata": {},
   "outputs": [],
   "source": []
  }
 ],
 "metadata": {
  "kernelspec": {
   "display_name": "Python 3",
   "language": "python",
   "name": "python3"
  },
  "language_info": {
   "codemirror_mode": {
    "name": "ipython",
    "version": 3
   },
   "file_extension": ".py",
   "mimetype": "text/x-python",
   "name": "python",
   "nbconvert_exporter": "python",
   "pygments_lexer": "ipython3",
   "version": "3.7.3"
  }
 },
 "nbformat": 4,
 "nbformat_minor": 2
}
