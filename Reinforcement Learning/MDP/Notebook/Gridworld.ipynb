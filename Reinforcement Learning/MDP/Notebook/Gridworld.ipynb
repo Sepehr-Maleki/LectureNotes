{
 "cells": [
  {
   "cell_type": "code",
   "execution_count": 3,
   "metadata": {},
   "outputs": [],
   "source": [
    "import numpy as np\n",
    "import matplotlib.pyplot as plt"
   ]
  },
  {
   "cell_type": "code",
   "execution_count": 62,
   "metadata": {},
   "outputs": [],
   "source": [
    "class gridworld(object):\n",
    "    \n",
    "    def __init__(self, gamma=.9, rows=5, columns=5):\n",
    "        self.grid = np.zeros((rows, columns))\n",
    "        self.rows = rows\n",
    "        self.columns = columns\n",
    "        self.gamma = gamma\n",
    "        self.p = .25\n",
    "        self.special_case = False\n",
    "        print(self.grid)\n",
    "\n",
    "        \n",
    "    def moveNorth(self, current_state):\n",
    "        self.next_state = current_state + [-1, 0]\n",
    "        return self.next_state\n",
    "    \n",
    "    def moveEast(self, current_state):\n",
    "        self.next_state = current_state + [0, 1]\n",
    "        return self.next_state\n",
    "\n",
    "    def moveSouth(self, current_state):\n",
    "        self.next_state = current_state + [1, 0]\n",
    "        return self.next_state\n",
    "    \n",
    "    def moveWest(self, current_state):\n",
    "        self.next_state = current_state + [0, -1]\n",
    "        return self.next_state\n",
    "    \n",
    "    def move(self, current_state):\n",
    "        total_values = 0\n",
    "        \n",
    "        # Special state A\n",
    "        if (current_state == [0, 1]).all():\n",
    "            self.special_case = True\n",
    "            self.next_state = np.array([4, 1])\n",
    "            self.R = 10\n",
    "            self.next_state_v = self.grid[self.next_state[0], self.next_state[1]]\n",
    "            self.special_state_value =  self.R + self.gamma * self.next_state_v\n",
    "            total_values += 4 * self.p * self.special_state_value\n",
    "\n",
    "        # Special state B\n",
    "        elif (current_state == [0, 3]).all():\n",
    "            self.special_case = True\n",
    "            self.next_state = np.array([2, 3])\n",
    "            self.R = 5\n",
    "            self.next_state_v = self.grid[self.next_state[0], self.next_state[1]]\n",
    "            self.special_state_value =  self.R + self.gamma * self.next_state_v\n",
    "            total_values += 4 * self.p * self.special_state_value\n",
    "            \n",
    "        else:\n",
    "        \n",
    "            # Move North\n",
    "            self.next_state = self.moveNorth(current_state)\n",
    "            if self.next_state[0] <0:\n",
    "                self.R = -1\n",
    "                self.next_state = current_state\n",
    "            else:\n",
    "                self.R = 0\n",
    "\n",
    "            self.next_state_v = self.grid[self.next_state[0], self.next_state[1]]\n",
    "            self.north_action_value =  self.R + self.gamma * self.next_state_v\n",
    "            total_values += self.p * self.north_action_value\n",
    "\n",
    "            # Move East\n",
    "            self.next_state = self.moveEast(current_state)\n",
    "            if self.next_state[1] > self.rows-1:\n",
    "                self.R = -1\n",
    "                self.next_state = current_state\n",
    "            else:\n",
    "                self.R = 0\n",
    "\n",
    "            self.next_state_v = self.grid[self.next_state[0], self.next_state[1]]\n",
    "            self.east_action_value =  (self.R + self.gamma * self.next_state_v)\n",
    "            total_values += self.p * self.east_action_value\n",
    "\n",
    "            # Move South\n",
    "            self.next_state = self.moveSouth(current_state)\n",
    "            if self.next_state[0] > self.columns-1:\n",
    "                self.R = -1\n",
    "                self.next_state = current_state\n",
    "            else:\n",
    "                self.R = 0\n",
    "\n",
    "            self.next_state_v = self.grid[self.next_state[0], self.next_state[1]]\n",
    "            self.south_action_value =  (self.R + self.gamma * self.next_state_v)\n",
    "            total_values += self.p * self.south_action_value\n",
    "\n",
    "            # Move West\n",
    "            self.next_state = self.moveWest(current_state)\n",
    "            if self.next_state[1] <0:\n",
    "                self.R = -1\n",
    "                self.next_state = current_state\n",
    "            else:\n",
    "                self.R = 0\n",
    "\n",
    "            self.next_state_v = self.grid[self.next_state[0], self.next_state[1]]\n",
    "            self.west_action_value =  (self.R + self.gamma * self.next_state_v)\n",
    "            total_values += self.p * self.west_action_value\n",
    "            \n",
    "        if self.special_case:\n",
    "            return total_values, self.special_state_value\n",
    "        else:\n",
    "            return total_values, np.max([self.north_action_value, self.east_action_value,\n",
    "                                        self.south_action_value, self.west_action_value])\n",
    "    \n",
    "    def update(self):\n",
    "        for i in range(0, 5):\n",
    "            for j in range(0, 5):\n",
    "                self.current_state = np.array([i, j])\n",
    "                state_value = self.move(self.current_state)[0]\n",
    "                self.grid[i, j] = state_value\n",
    "                \n",
    "    def optimalV(self):\n",
    "        for i in range(0, 5):\n",
    "            for j in range(0, 5):\n",
    "                self.current_state = np.array([i, j])\n",
    "                state_value = self.move(self.current_state)[1]\n",
    "                self.grid[i, j] = state_value\n",
    "    \n",
    "    def play(self, k=100):\n",
    "        for x in range(k):\n",
    "            self.update()     \n",
    "        return np.round(self.grid, decimals=1).tolist()\n",
    "    \n",
    "    def findOptimalV(self, k=100):\n",
    "        for x in range(k):\n",
    "            self.optimalV()     \n",
    "        return np.round(self.grid, decimals=1).tolist()\n"
   ]
  },
  {
   "cell_type": "code",
   "execution_count": 63,
   "metadata": {},
   "outputs": [
    {
     "name": "stdout",
     "output_type": "stream",
     "text": [
      "[[0. 0. 0. 0. 0.]\n",
      " [0. 0. 0. 0. 0.]\n",
      " [0. 0. 0. 0. 0.]\n",
      " [0. 0. 0. 0. 0.]\n",
      " [0. 0. 0. 0. 0.]]\n"
     ]
    }
   ],
   "source": [
    "G = gridworld()"
   ]
  },
  {
   "cell_type": "code",
   "execution_count": 64,
   "metadata": {},
   "outputs": [
    {
     "data": {
      "text/plain": [
       "[[3.3, 8.8, 4.4, 5.3, 1.5],\n",
       " [1.5, 3.0, 2.3, 1.9, 0.5],\n",
       " [0.1, 0.7, 0.7, 0.4, -0.4],\n",
       " [-1.0, -0.4, -0.4, -0.6, -1.2],\n",
       " [-1.9, -1.3, -1.2, -1.4, -2.0]]"
      ]
     },
     "execution_count": 64,
     "metadata": {},
     "output_type": "execute_result"
    }
   ],
   "source": [
    "G.play()"
   ]
  },
  {
   "cell_type": "code",
   "execution_count": 65,
   "metadata": {},
   "outputs": [
    {
     "data": {
      "text/plain": [
       "[[50.0, 55.0, 55.0, 50.0, 50.0],\n",
       " [50.0, 50.0, 50.0, 50.0, 50.0],\n",
       " [50.0, 50.0, 50.0, 50.0, 50.0],\n",
       " [50.0, 50.0, 50.0, 50.0, 50.0],\n",
       " [50.0, 50.0, 50.0, 50.0, 50.0]]"
      ]
     },
     "execution_count": 65,
     "metadata": {},
     "output_type": "execute_result"
    }
   ],
   "source": [
    "G.findOptimalV(1000)"
   ]
  },
  {
   "cell_type": "markdown",
   "metadata": {},
   "source": [
    "---"
   ]
  },
  {
   "cell_type": "code",
   "execution_count": null,
   "metadata": {},
   "outputs": [],
   "source": [
    "class girdWorld(object):\n",
    "\n",
    "    def __init__(self, gamma=.9):        \n",
    "        self.grid = np.zeros((5, 5))\n",
    "        self.p = .25\n",
    "        self.gamma = gamma\n",
    "        print(grid)\n",
    "    \n",
    "    def update(self):\n",
    "        for i in range(5):\n",
    "            for j in range(5):\n",
    "                up = self.grid[i-1][j] if i>0 else 0\n",
    "                left = self.grid[i][j-1] if j>0 else 0\n",
    "                down = self.grid[i+1][j] if i < 3 else 0\n",
    "                right = self.grid[i][j+1] if j < 3 else 0\n",
    "                \n",
    "                actions = [up, left, down, right]\n",
    "                value = 0\n",
    "                if i==0 and j==1: # Position A\n",
    "                    value = 10 + self.gamma*self.grid[4, 1]\n",
    "                elif i==0 and j==3: # Position B\n",
    "                    value = 5 + self.gamma*self.grid[2, 3]\n",
    "                else:\n",
    "                    for action in actions:\n",
    "                        if action !=0:\n",
    "                            value += self.p * (0 + self.gamma * action)\n",
    "                        else:\n",
    "                            value += self.p * (-1 + slef.gamma * action)\n",
    "                            \n",
    "                self.grid[i][j] = value\n",
    "                \n",
    "    def findOptimalValues(self):\n",
    "        for i in range(5):\n",
    "            for j in range(5):\n",
    "                up = self.grid[i-1][j] if i>0 else 0\n",
    "                left = self.grid[i][j-1] if j>0 else 0\n",
    "                down = self.grid[i+1][j] if i < 3 else 0\n",
    "                right = self.grid[i][j+1] if j < 3 else 0\n",
    "                \n",
    "                actions = [up, left, down, right]\n",
    "                values = []\n",
    "                if i==0 and j==1: # Position A\n",
    "                    maxvalue = 10 + self.gamma*self.grid[4, 1]\n",
    "                elif i==0 and j==3: # Position B\n",
    "                    maxvalue = 5 + self.gamma*self.grid[4, 1]\n",
    "                else:\n",
    "                    for action in actions:\n",
    "                        if actionm !=0:\n",
    "                            values.append(self.p * (0 + self.gamma * action))\n",
    "                        else:\n",
    "                            values.append(self.p * (-1 + slef.gamma * action))\n",
    "                    maxvalue = np.max(values)\n",
    "                self.grid[i][j] = maxvalue   \n",
    "                 \n",
    "    def play(k=10):\n",
    "        for i in range(10):\n",
    "            self.update()\n",
    "        return np.round(self.grid, 1).tolist()\n",
    "                    "
   ]
  },
  {
   "cell_type": "code",
   "execution_count": null,
   "metadata": {},
   "outputs": [],
   "source": [
    "G = gridworld()"
   ]
  },
  {
   "cell_type": "code",
   "execution_count": null,
   "metadata": {},
   "outputs": [],
   "source": [
    "G.play()"
   ]
  },
  {
   "cell_type": "code",
   "execution_count": null,
   "metadata": {},
   "outputs": [],
   "source": [
    "G.findOptimalV()"
   ]
  },
  {
   "cell_type": "markdown",
   "metadata": {},
   "source": [
    "---"
   ]
  },
  {
   "cell_type": "code",
   "execution_count": 120,
   "metadata": {},
   "outputs": [],
   "source": [
    "class gridWorld(object):\n",
    "    def __init__(self):\n",
    "        self.dim = [5, 5]\n",
    "        self.v = np.zeros(self.dim)\n",
    "        self.pos_A = [0, 1]\n",
    "        self.pos_B = [0, 3]\n",
    "        self.A_reward = 10\n",
    "        self.B_reward = 5\n",
    "        self.A_next_pos = [4, 1]\n",
    "        self.B_next_pos = [2, 3]\n",
    "        self.gamma = 0.9\n",
    "        \n",
    "        self.action_space = [\"Up\", \"Down\", \"Left\", \"Right\"]\n",
    "        self.q = np.zeros((self.dim[0], self.dim[1], len(self.action_space)))\n",
    "        self.action_prob = [.25] * 4\n",
    "        \n",
    "    def action(self, a):\n",
    "        if self.s == self.pos_A:\n",
    "            self.s = self.A_next_pos\n",
    "            self.reward = self.A_reward\n",
    "        elif self.s == self.pos_B:\n",
    "            self.s = self.B_next_pos\n",
    "            self.reward = self.B_reward\n",
    "            \n",
    "        elif a == \"Up\" and self.s[0] > 0:\n",
    "            self.s[0]-=1\n",
    "            self.reward = 0\n",
    "        elif a == \"Down\" and self.s[0] < self.dim[0]-1:\n",
    "            self.s[0]+=1\n",
    "            self.reward =0\n",
    "        elif a==\"Left\" and self.s[1] >0:\n",
    "            self.s[1]-=1\n",
    "            self.reward = 0\n",
    "        elif a==\"Right\" and self.s[1] < self.dim[1]-1:\n",
    "            self.s[1]+=1\n",
    "            self.reward = 0\n",
    "        else:\n",
    "            self.reward = -1\n",
    "        return self.s, self.reward\n",
    "    \n",
    "    def update(self):\n",
    "        for k in range(100):\n",
    "            self.v_next = np.zeros(self.dim)\n",
    "            for i in range(self.dim[0]):\n",
    "                for j in range(self.dim[1]):\n",
    "                    for a in self.action_space:\n",
    "                        self.s = [i, j]\n",
    "                        s, r = self.action(a)\n",
    "                        prob = self.action_prob[self.action_space.index(a)]\n",
    "                        self.v_next[i, j] += prob * (r + self.gamma * self.v[s[0], s[1]])\n",
    "            self.v = self.v_next.copy()\n",
    "        return np.round(self.v, 1).tolist()\n",
    "    \n",
    "    def Opt_v(self):\n",
    "        for k in range(100):\n",
    "            self.q_next = self.q.copy()\n",
    "            for i in range(self.dim[0]):\n",
    "                for j in range(self.dim[1]):\n",
    "                    for a in self.action_space:\n",
    "                        self.s = [i, j]\n",
    "                        s, r = self.action(a)\n",
    "                        a_index = self.action_space.index(a)\n",
    "                        self.q_next[i, j, a_index] = r + self.gamma * np.max(self.q[s[0], s[1]])\n",
    "            self.q = self.q_next.copy()\n",
    "        return np.round(np.max(self.q, axis=2), 1).tolist()\n",
    "    \n",
    "    def policy(self, q):\n",
    "        qmax = np.max(q, axis=2)\n",
    "        x = np.linspace(0, self.dim[0] - 1, self.dim[0]) + 0.5\n",
    "        y = np.linspace(self.dim[1] - 1, 0, self.dim[1]) + 0.5\n",
    "        X, Y = np.meshgrid(x, y)\n",
    "        zeros = np.zeros(self.dim)\n",
    "        \n",
    "        fig = plt.figure(figsize=(12, 8))\n",
    "        ax = plt.axes()\n",
    "        \n",
    "        for k, a in enumerate(self.action_space):\n",
    "            q_star = np.zeros(self.dim)\n",
    "            for i in range(self.dim[0]):\n",
    "                for j in reversed(range(self.dim[1])):\n",
    "                    if q[i, j, k] == qmax[i, j]:\n",
    "                        q_star[i, j] = 0.4\n",
    "                        \n",
    "            # plot\n",
    "            if a==\"Up\":\n",
    "                plt.quiver(X, Y, zeros, q_star, scale=1, units='xy')\n",
    "            elif a == \"Left\":\n",
    "                plt.quiver(X, Y, -q_star, zeros, scale=1, units='xy')\n",
    "            elif a == \"Down\":\n",
    "                plt.quiver(X, Y, zeros, -q_star, scale=1, units='xy')\n",
    "            elif a == \"Right\":\n",
    "                plt.quiver(X, Y, q_star, zeros, scale=1, units='xy')\n",
    "                    \n",
    "        plt.xlim([0, self.dim[0]])\n",
    "        plt.ylim([0, self.dim[1]])\n",
    "        ax.set_yticklabels([])\n",
    "        ax.set_xticklabels([])\n",
    "        plt.grid()\n",
    "        plt.show() \n",
    "        "
   ]
  },
  {
   "cell_type": "code",
   "execution_count": 121,
   "metadata": {},
   "outputs": [],
   "source": [
    "G=gridWorld()"
   ]
  },
  {
   "cell_type": "code",
   "execution_count": 122,
   "metadata": {},
   "outputs": [
    {
     "data": {
      "text/plain": [
       "[[3.3, 8.8, 4.4, 5.3, 1.5],\n",
       " [1.5, 3.0, 2.3, 1.9, 0.5],\n",
       " [0.1, 0.7, 0.7, 0.4, -0.4],\n",
       " [-1.0, -0.4, -0.4, -0.6, -1.2],\n",
       " [-1.9, -1.3, -1.2, -1.4, -2.0]]"
      ]
     },
     "execution_count": 122,
     "metadata": {},
     "output_type": "execute_result"
    }
   ],
   "source": [
    "G.update()"
   ]
  },
  {
   "cell_type": "code",
   "execution_count": 123,
   "metadata": {},
   "outputs": [
    {
     "data": {
      "text/plain": [
       "[[22.0, 24.4, 22.0, 19.4, 17.5],\n",
       " [19.8, 22.0, 19.8, 17.8, 16.0],\n",
       " [17.8, 19.8, 17.8, 16.0, 14.4],\n",
       " [16.0, 17.8, 16.0, 14.4, 13.0],\n",
       " [14.4, 16.0, 14.4, 13.0, 11.7]]"
      ]
     },
     "execution_count": 123,
     "metadata": {},
     "output_type": "execute_result"
    }
   ],
   "source": [
    "G.Opt_v()"
   ]
  },
  {
   "cell_type": "code",
   "execution_count": 124,
   "metadata": {},
   "outputs": [
    {
     "data": {
      "image/png": "[encoded data removed]",
      "text/plain": [
       "<Figure size 864x576 with 1 Axes>"
      ]
     },
     "metadata": {
      "needs_background": "light"
     },
     "output_type": "display_data"
    }
   ],
   "source": [
    "G.policy(G.q)"
   ]
  },
  {
   "cell_type": "code",
   "execution_count": null,
   "metadata": {},
   "outputs": [],
   "source": []
  }
 ],
 "metadata": {
  "kernelspec": {
   "display_name": "Python 3",
   "language": "python",
   "name": "python3"
  },
  "language_info": {
   "codemirror_mode": {
    "name": "ipython",
    "version": 3
   },
   "file_extension": ".py",
   "mimetype": "text/x-python",
   "name": "python",
   "nbconvert_exporter": "python",
   "pygments_lexer": "ipython3",
   "version": "3.7.3"
  }
 },
 "nbformat": 4,
 "nbformat_minor": 2
}
